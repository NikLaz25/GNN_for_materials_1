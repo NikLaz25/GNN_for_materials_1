{
 "cells": [
  {
   "cell_type": "markdown",
   "metadata": {},
   "source": [
    "# Formation energy prediction task 01"
   ]
  },
  {
   "cell_type": "markdown",
   "metadata": {},
   "source": [
    "Подготовим прогноз энергии образования с помощью модели GNN. \n",
    "\n",
    "Let's prepare a prediction of the formation energy using the GNN model."
   ]
  },
  {
   "cell_type": "markdown",
   "metadata": {},
   "source": [
    "## Import libraries Импорт библиотек"
   ]
  },
  {
   "cell_type": "code",
   "execution_count": null,
   "metadata": {},
   "outputs": [],
   "source": [
    "# common libraries\n",
    "import pandas as pd\n",
    "import matplotlib.pyplot as plt\n",
    "import numpy as np\n",
    "import tqdm, os\n",
    "import seaborn as sns\n",
    "from datetime import date\n",
    "\n",
    "from sklearn.metrics import r2_score, mean_absolute_error\n",
    "from tqdm import tqdm\n",
    "\n",
    "# torch libraries\n",
    "import torch\n",
    "from torch.utils.data import DataLoader\n",
    "\n",
    "# Torch geometric libraries\n",
    "from torch_geometric.data import Data, Dataset\n",
    "from torch_geometric.loader import DataLoader as DataLoader_geometric\n",
    "\n",
    "# import modules\n",
    "from models.GNN_first import GCN\n",
    "\n",
    "# assistive libraries\n",
    "plt.rcParams.update(plt.rcParamsDefault) # Сброс настроек\n",
    "import openpyxl # работа с excel"
   ]
  },
  {
   "cell_type": "markdown",
   "metadata": {},
   "source": [
    "## Loading dataset Загружаем данные"
   ]
  },
  {
   "cell_type": "code",
   "execution_count": 7,
   "metadata": {},
   "outputs": [],
   "source": [
    "# загружаем датафрейм df_Fm-3m.xlsx\n",
    "PATH_FOR_LOAD = r'.\\data\\datafraims\\df_Fm-3m.xlsx'\n",
    "df_load = pd.read_excel(PATH_FOR_LOAD)"
   ]
  },
  {
   "cell_type": "code",
   "execution_count": 8,
   "metadata": {},
   "outputs": [
    {
     "data": {
      "text/html": [
       "<div>\n",
       "<style scoped>\n",
       "    .dataframe tbody tr th:only-of-type {\n",
       "        vertical-align: middle;\n",
       "    }\n",
       "\n",
       "    .dataframe tbody tr th {\n",
       "        vertical-align: top;\n",
       "    }\n",
       "\n",
       "    .dataframe thead th {\n",
       "        text-align: right;\n",
       "    }\n",
       "</style>\n",
       "<table border=\"1\" class=\"dataframe\">\n",
       "  <thead>\n",
       "    <tr style=\"text-align: right;\">\n",
       "      <th></th>\n",
       "      <th>composition</th>\n",
       "      <th>structure</th>\n",
       "      <th>formation_energy_per_atom</th>\n",
       "    </tr>\n",
       "  </thead>\n",
       "  <tbody>\n",
       "    <tr>\n",
       "      <th>1255</th>\n",
       "      <td>Zr1 Sn3</td>\n",
       "      <td>Full Formula (Zr1 Sn3)\\nReduced Formula: ZrSn3...</td>\n",
       "      <td>0.115889</td>\n",
       "    </tr>\n",
       "    <tr>\n",
       "      <th>1256</th>\n",
       "      <td>Zr1 Zn1</td>\n",
       "      <td>Full Formula (Zr1 Zn1)\\nReduced Formula: ZrZn\\...</td>\n",
       "      <td>0.104294</td>\n",
       "    </tr>\n",
       "  </tbody>\n",
       "</table>\n",
       "</div>"
      ],
      "text/plain": [
       "     composition                                          structure  \\\n",
       "1255     Zr1 Sn3  Full Formula (Zr1 Sn3)\\nReduced Formula: ZrSn3...   \n",
       "1256     Zr1 Zn1  Full Formula (Zr1 Zn1)\\nReduced Formula: ZrZn\\...   \n",
       "\n",
       "      formation_energy_per_atom  \n",
       "1255                   0.115889  \n",
       "1256                   0.104294  "
      ]
     },
     "execution_count": 8,
     "metadata": {},
     "output_type": "execute_result"
    }
   ],
   "source": [
    "# смотрим\n",
    "df_load.tail(2)"
   ]
  },
  {
   "cell_type": "code",
   "execution_count": 9,
   "metadata": {},
   "outputs": [],
   "source": [
    "# создадим класс для загрузки графов из соответствующей папки репозитория  \n",
    "class ProcessedDataset_new_dir(Dataset): # (наследник torch_geometric.data.Dataset)\n",
    "    '''пользовательский класс ProcessedDataset для работы с предобработанными графами кристаллических структур, \n",
    "    сохраненными в файлах .pt, и выводит статистику о данных.'''\n",
    "\n",
    "    # Инициализирует датасет:\n",
    "    # root: Путь к папке с данными, transform/pre_transform/pre_filter: Опциональные функции для преобразования данных (не используются здесь).\n",
    "    def __init__(self, root, new_dir_for_load_grahs, transform=None, pre_transform=None, pre_filter=None):\n",
    "        super().__init__(root, transform, pre_transform, pre_filter)\n",
    "        self.processed_new_dir = new_dir_for_load_grahs\n",
    "\n",
    "    @property\n",
    "    def processed_dir(self):\n",
    "        return os.path.join(self.root, self.processed_new_dir)  # Кастомный путь\n",
    "    \n",
    "    # Возвращает список файлов .pt в папке processed\n",
    "    @property\n",
    "    def processed_file_names(self):\n",
    "        file_names = []\n",
    "        for i in os.listdir(self.processed_dir):\n",
    "            if '.pt' in i:\n",
    "                file_names.append(i)\n",
    "        return file_names\n",
    "    \n",
    "\n",
    "    # Возвращает количество графов в датасете:\n",
    "    def len(self):\n",
    "        return len(self.processed_file_names)\n",
    "\n",
    "    # Загружает граф по индексу idx\n",
    "    def get(self, idx):\n",
    "        data = torch.load(os.path.join(self.processed_dir, f'data_{idx}.pt'))\n",
    "        return data"
   ]
  },
  {
   "cell_type": "code",
   "execution_count": 10,
   "metadata": {},
   "outputs": [],
   "source": [
    "# загружаем датасет\n",
    "dataset = ProcessedDataset_new_dir('./', './data/graphs_structures_Fm_3m')"
   ]
  },
  {
   "cell_type": "code",
   "execution_count": 58,
   "metadata": {},
   "outputs": [
    {
     "name": "stdout",
     "output_type": "stream",
     "text": [
      "\n",
      "Dataset: ProcessedDataset_new_dir(1257):\n",
      "===============================================================================\n",
      "Number of graphs: 1257\n",
      "Number of features: 5\n"
     ]
    }
   ],
   "source": [
    "# смотрим данные о датасете\n",
    "print()\n",
    "print(f'Dataset: {dataset}:')\n",
    "print('=' * 79)\n",
    "print(f'Number of graphs: {len(dataset)}')\n",
    "print(f'Number of features: {dataset.num_features}')"
   ]
  },
  {
   "cell_type": "code",
   "execution_count": 60,
   "metadata": {},
   "outputs": [
    {
     "name": "stdout",
     "output_type": "stream",
     "text": [
      "\n",
      "data_example Data(x=[32, 5], y=[1, 1], pos=[32, 3], lattice=[1, 9], edge_index=[2, 192])\n",
      "===============================================================================\n",
      "Number of nodes: 32\n",
      "Number of node features: 5\n",
      "Number of edges: 192\n",
      "Number of edge feats: 0\n"
     ]
    }
   ],
   "source": [
    "data_example = dataset[0]  # Get the first graph object.\n",
    "# data = dataset_new_dir[0]  # Get the first graph object.\n",
    "\n",
    "print()\n",
    "print('data_example', data_example)\n",
    "print('=' * 79)\n",
    "\n",
    "# Gather some statistics about the first graph.\n",
    "print(f'Number of nodes: {data_example.num_nodes}')\n",
    "print(f'Number of node features: {data_example.num_node_features}')\n",
    "print(f'Number of edges: {data_example.num_edges}')\n",
    "print(f'Number of edge feats: {data_example.num_edge_features}')"
   ]
  },
  {
   "cell_type": "code",
   "execution_count": 61,
   "metadata": {},
   "outputs": [
    {
     "data": {
      "text/plain": [
       "tensor([[89.0000, 22.5500,  0.3500,  3.0000,  3.0000],\n",
       "        [89.0000, 22.5500,  0.3500,  3.0000,  3.0000],\n",
       "        [89.0000, 22.5500,  0.3500,  3.0000,  3.0000],\n",
       "        [89.0000, 22.5500,  0.3500,  3.0000,  3.0000],\n",
       "        [89.0000, 22.5500,  0.3500,  3.0000,  3.0000],\n",
       "        [89.0000, 22.5500,  0.3500,  3.0000,  3.0000],\n",
       "        [89.0000, 22.5500,  0.3500,  3.0000,  3.0000],\n",
       "        [89.0000, 22.5500,  0.3500,  3.0000,  3.0000],\n",
       "        [ 9.0000, 11.2000,  3.4012, -1.0000, -1.0000],\n",
       "        [ 9.0000, 11.2000,  3.4012, -1.0000, -1.0000],\n",
       "        [ 9.0000, 11.2000,  3.4012, -1.0000, -1.0000],\n",
       "        [ 9.0000, 11.2000,  3.4012, -1.0000, -1.0000],\n",
       "        [ 9.0000, 11.2000,  3.4012, -1.0000, -1.0000],\n",
       "        [ 9.0000, 11.2000,  3.4012, -1.0000, -1.0000],\n",
       "        [ 9.0000, 11.2000,  3.4012, -1.0000, -1.0000],\n",
       "        [ 9.0000, 11.2000,  3.4012, -1.0000, -1.0000],\n",
       "        [ 9.0000, 11.2000,  3.4012, -1.0000, -1.0000],\n",
       "        [ 9.0000, 11.2000,  3.4012, -1.0000, -1.0000],\n",
       "        [ 9.0000, 11.2000,  3.4012, -1.0000, -1.0000],\n",
       "        [ 9.0000, 11.2000,  3.4012, -1.0000, -1.0000],\n",
       "        [ 9.0000, 11.2000,  3.4012, -1.0000, -1.0000],\n",
       "        [ 9.0000, 11.2000,  3.4012, -1.0000, -1.0000],\n",
       "        [ 9.0000, 11.2000,  3.4012, -1.0000, -1.0000],\n",
       "        [ 9.0000, 11.2000,  3.4012, -1.0000, -1.0000],\n",
       "        [ 9.0000, 11.2000,  3.4012, -1.0000, -1.0000],\n",
       "        [ 9.0000, 11.2000,  3.4012, -1.0000, -1.0000],\n",
       "        [ 9.0000, 11.2000,  3.4012, -1.0000, -1.0000],\n",
       "        [ 9.0000, 11.2000,  3.4012, -1.0000, -1.0000],\n",
       "        [ 9.0000, 11.2000,  3.4012, -1.0000, -1.0000],\n",
       "        [ 9.0000, 11.2000,  3.4012, -1.0000, -1.0000],\n",
       "        [ 9.0000, 11.2000,  3.4012, -1.0000, -1.0000],\n",
       "        [ 9.0000, 11.2000,  3.4012, -1.0000, -1.0000]])"
      ]
     },
     "execution_count": 61,
     "metadata": {},
     "output_type": "execute_result"
    }
   ],
   "source": [
    "data_example.x"
   ]
  },
  {
   "cell_type": "code",
   "execution_count": 56,
   "metadata": {},
   "outputs": [
    {
     "data": {
      "text/plain": [
       "(__main__.ProcessedDataset_new_dir, './data/graphs_structures_Fm_3m')"
      ]
     },
     "execution_count": 56,
     "metadata": {},
     "output_type": "execute_result"
    }
   ],
   "source": [
    "# смотрим тип и как читается ссылка\n",
    "type(dataset), dataset.processed_new_dir"
   ]
  },
  {
   "cell_type": "code",
   "execution_count": 12,
   "metadata": {},
   "outputs": [
    {
     "name": "stdout",
     "output_type": "stream",
     "text": [
      "\n",
      "Dataset: ProcessedDataset_new_dir(1257):\n",
      "===============================================================================\n",
      "Number of graphs: 1257\n",
      "Number of features: 5\n"
     ]
    }
   ],
   "source": [
    "# смотрим данные о датасете\n",
    "print()\n",
    "print(f'Dataset: {dataset}:')\n",
    "print('=' * 79)\n",
    "print(f'Number of graphs: {len(dataset)}')\n",
    "print(f'Number of features: {dataset.num_features}')"
   ]
  },
  {
   "cell_type": "markdown",
   "metadata": {},
   "source": [
    "## Splitting the data into train and test  Разбивка данных на обучающие и тестовые"
   ]
  },
  {
   "cell_type": "markdown",
   "metadata": {},
   "source": [
    "Для первого варианта возьмём размер обучающей выборки 85%"
   ]
  },
  {
   "cell_type": "code",
   "execution_count": 13,
   "metadata": {},
   "outputs": [
    {
     "name": "stdout",
     "output_type": "stream",
     "text": [
      "Number of samples in the training set: 1068\n"
     ]
    }
   ],
   "source": [
    "# 85% of data will be presented in the training set\n",
    "train_fraction = 0.85\n",
    "\n",
    "train_set_size = round(df_load.shape[0] * train_fraction)\n",
    "print('Number of samples in the training set:', train_set_size)\n",
    "\n",
    "\n",
    "# Get indexes for train and test # Получаем индексы обучающей и тестовой выборки\n",
    "\n",
    "# Define train indices to compare differen models\n",
    "train_idxs = df_load.sample(train_set_size).index\n",
    "\n",
    "# Inverse selection of samples that are not in the train indices\n",
    "test_idxs = df_load.loc[df_load.index.difference(train_idxs)].index"
   ]
  },
  {
   "cell_type": "code",
   "execution_count": null,
   "metadata": {},
   "outputs": [
    {
     "name": "stdout",
     "output_type": "stream",
     "text": [
      "Number of training graphs: 1068\n",
      "Number of test graphs: 189\n"
     ]
    }
   ],
   "source": [
    "# получаем обучающий и тестовый датасеты\n",
    "train_dataset = dataset[list(train_idxs)]\n",
    "test_dataset = dataset[list(df_load.index.difference(train_idxs))]\n",
    "\n",
    "print(f'Number of training graphs: {len(train_dataset)}')\n",
    "print(f'Number of test graphs: {len(test_dataset)}')"
   ]
  },
  {
   "cell_type": "markdown",
   "metadata": {},
   "source": [
    "## Breakdown of data by batches Разбивка данных по пакетам"
   ]
  },
  {
   "cell_type": "code",
   "execution_count": 15,
   "metadata": {},
   "outputs": [
    {
     "name": "stdout",
     "output_type": "stream",
     "text": [
      "Step 1:\n",
      "=======\n",
      "Number of graphs in the current batch: 256\n",
      "DataBatch(x=[8840, 5], y=[256, 1], pos=[8840, 3], lattice=[256, 9], edge_index=[2, 53040], batch=[8840], ptr=[257])\n",
      "\n",
      "Step 2:\n",
      "=======\n",
      "Number of graphs in the current batch: 256\n",
      "DataBatch(x=[11288, 5], y=[256, 1], pos=[11288, 3], lattice=[256, 9], edge_index=[2, 67728], batch=[11288], ptr=[257])\n",
      "\n",
      "Step 3:\n",
      "=======\n",
      "Number of graphs in the current batch: 256\n",
      "DataBatch(x=[8776, 5], y=[256, 1], pos=[8776, 3], lattice=[256, 9], edge_index=[2, 52656], batch=[8776], ptr=[257])\n",
      "\n",
      "Step 4:\n",
      "=======\n",
      "Number of graphs in the current batch: 256\n",
      "DataBatch(x=[9008, 5], y=[256, 1], pos=[9008, 3], lattice=[256, 9], edge_index=[2, 54048], batch=[9008], ptr=[257])\n",
      "\n",
      "Step 5:\n",
      "=======\n",
      "Number of graphs in the current batch: 44\n",
      "DataBatch(x=[1304, 5], y=[44, 1], pos=[1304, 3], lattice=[44, 9], edge_index=[2, 7824], batch=[1304], ptr=[45])\n",
      "\n"
     ]
    }
   ],
   "source": [
    "# разбивка по пакетам\n",
    "train_loader = DataLoader_geometric(train_dataset, batch_size=256, shuffle=True)\n",
    "test_loader = DataLoader_geometric(test_dataset, batch_size=228, shuffle=False)\n",
    "\n",
    "# смотрим как разбились данные в train_loader\n",
    "# we are looking at how the data is distributed in train_loader\n",
    "for step, data in enumerate(train_loader):\n",
    "    print(f'Step {step + 1}:')\n",
    "    print('=======')\n",
    "    print(f'Number of graphs in the current batch: {data.num_graphs}')\n",
    "    print(data)\n",
    "    print()"
   ]
  },
  {
   "cell_type": "code",
   "execution_count": 16,
   "metadata": {},
   "outputs": [
    {
     "name": "stdout",
     "output_type": "stream",
     "text": [
      "Step 1:\n",
      "=======\n",
      "Number of graphs in the current batch: 189\n",
      "DataBatch(x=[8560, 5], y=[189, 1], pos=[8560, 3], lattice=[189, 9], edge_index=[2, 51360], batch=[8560], ptr=[190])\n",
      "\n"
     ]
    }
   ],
   "source": [
    "# смотрим как разбились данные в test_loader\n",
    "# we are looking at how the data is distributed in test_loader\n",
    "for step, data in enumerate(test_loader):\n",
    "    print(f'Step {step + 1}:')\n",
    "    print('=======')\n",
    "    print(f'Number of graphs in the current batch: {data.num_graphs}')\n",
    "    print(data)\n",
    "    print()"
   ]
  },
  {
   "cell_type": "markdown",
   "metadata": {},
   "source": [
    "## Initiating the model / Инициируем модель"
   ]
  },
  {
   "cell_type": "code",
   "execution_count": 17,
   "metadata": {},
   "outputs": [
    {
     "data": {
      "text/plain": [
       "5"
      ]
     },
     "execution_count": 17,
     "metadata": {},
     "output_type": "execute_result"
    }
   ],
   "source": [
    "dataset.num_node_features"
   ]
  },
  {
   "cell_type": "code",
   "execution_count": null,
   "metadata": {},
   "outputs": [],
   "source": [
    "# # import modules\n",
    "# from models.GNN_first import GCN"
   ]
  },
  {
   "cell_type": "code",
   "execution_count": 18,
   "metadata": {},
   "outputs": [],
   "source": [
    "# defining hyperparameters / определяем гиперпараметры \n",
    "hyperparameters = {'hidden_embeding':128, 'num_node_features': dataset.num_node_features}\n",
    "\n",
    "# инициируем модель \n",
    "model = GCN(hyperparameters=hyperparameters,)"
   ]
  },
  {
   "cell_type": "markdown",
   "metadata": {},
   "source": [
    "## Optimizer and loss function / Оптимизатор и функция потерь"
   ]
  },
  {
   "cell_type": "code",
   "execution_count": 19,
   "metadata": {},
   "outputs": [],
   "source": [
    "# создание оптимизатора Adam для обучения нейронной сети. Оптимизатор отвечает за обновление весов модели в процессе обучения.\n",
    "optimizer = torch.optim.Adam(model.parameters(), lr=0.001)"
   ]
  },
  {
   "cell_type": "code",
   "execution_count": 20,
   "metadata": {},
   "outputs": [],
   "source": [
    "# добавил самостоятельно, насколько это тут необходимо пока не совсем понимаю\n",
    "criterion = torch.nn.MSELoss()"
   ]
  },
  {
   "cell_type": "markdown",
   "metadata": {},
   "source": [
    "## Model launch function / Функция запуска модели"
   ]
  },
  {
   "cell_type": "code",
   "execution_count": null,
   "metadata": {},
   "outputs": [],
   "source": [
    "def run_model(model, epochs, train_loader, test_loader):\n",
    "    \"\"\"\n",
    "    Основная функция для обучения и оценки модели.\n",
    "    \n",
    "    Параметры:\n",
    "        model (torch.nn.Module): Нейронная сеть для обучения\n",
    "        epochs (int): Количество эпох обучения\n",
    "        train_loader (torch_geometric.loader.DataLoader): Загрузчик тренировочных данных\n",
    "        test_loader (torch_geometric.loader.DataLoader): Загрузчик тестовых данных\n",
    "    \"\"\"\n",
    "    \n",
    "    def train():\n",
    "        \"\"\"\n",
    "        Внутренняя функция для одной эпохи обучения.\n",
    "        Возвращает суммарный лосс за эпоху.\n",
    "        \"\"\"\n",
    "        # Переводим модель в режим обучения (важно для слоёв типа Dropout, BatchNorm)\n",
    "        model.train()\n",
    "        val_loss = 0  # Инициализируем переменную для накопления лосса\n",
    "\n",
    "        # Итерируемся по батчам тренировочных данных\n",
    "        for data in train_loader:\n",
    "            # 1. Прямой проход (forward pass) - вычисление предсказаний модели\n",
    "            out = model(data)\n",
    "\n",
    "            # 2. Вычисление функции потерь между предсказаниями и истинными значениями\n",
    "            loss = criterion(out, data['y'])\n",
    "\n",
    "            # 3. Обратное распространение ошибки (backward pass) - вычисление градиентов\n",
    "            loss.backward()\n",
    "\n",
    "            # 4. Обновление параметров модели на основе вычисленных градиентов\n",
    "            optimizer.step()\n",
    "\n",
    "            # 5. Обнуление градиентов перед следующим батчем\n",
    "            optimizer.zero_grad()\n",
    "\n",
    "            # 6. Накопление лосса (detach() чтобы избежать накопления в вычислительном графе)\n",
    "            val_loss += loss.detach().item()\n",
    "\n",
    "        return val_loss  # Возвращаем суммарный лосс за эпоху\n",
    "\n",
    "\n",
    "    def test(loader):\n",
    "        \"\"\"\n",
    "        Внутренняя функция для оценки модели на переданном загрузчике данных.\n",
    "        Возвращает среднее значение R2-score по всем батчам.\n",
    "        \"\"\"\n",
    "        # Переводим модель в режим оценки (отключаем Dropout и т.д.)\n",
    "        model.eval()\n",
    "        r2 = []  # Список для хранения R2-score по каждому батчу\n",
    "\n",
    "        # Итерируемся по батчам данных (без вычисления градиентов)\n",
    "        for data in loader:\n",
    "            # Получаем предсказания модели\n",
    "            out = model(data)\n",
    "\n",
    "            # Преобразуем предсказания и истинные значения в 1D массивы\n",
    "            pred = out.detach().ravel()  # detach() чтобы не вычислять градиенты\n",
    "            true = data['y'].ravel()\n",
    "\n",
    "            # Вычисляем R2-score для текущего батча и сохраняем\n",
    "            r2.append(r2_score(pred.numpy(), true.numpy()))\n",
    "\n",
    "        # Возвращаем среднее значение R2-score по всем батчам\n",
    "        return np.array(r2).mean()\n",
    "\n",
    "    # Основной цикл обучения\n",
    "    for epoch in range(1, epochs+1):\n",
    "        # Одна эпоха обучения и получение лосса\n",
    "        val_loss = train()\n",
    "        \n",
    "        # Вывод информации о текущей эпохе\n",
    "        print(f'Epoch: {epoch:03d}, Val Loss: {val_loss:.4f}')\n",
    "\n",
    "        # Каждые 10 эпох оцениваем модель на тренировочных и тестовых данных\n",
    "        if epoch % 10 == 0:\n",
    "            train_acc = test(train_loader)  # R2 на тренировочных данных\n",
    "            test_acc = test(test_loader)   # R2 на тестовых данных\n",
    "            print(f'Train R2: {train_acc:.4f}, Test R2: {test_acc:.4f}')"
   ]
  },
  {
   "cell_type": "markdown",
   "metadata": {},
   "source": [
    " ## Launching training and testing of the model / Запуск обучения и тестирования модели"
   ]
  },
  {
   "cell_type": "code",
   "execution_count": 22,
   "metadata": {},
   "outputs": [
    {
     "name": "stdout",
     "output_type": "stream",
     "text": [
      "Epoch: 001, Val Loss: 9.0767\n",
      "Epoch: 002, Val Loss: 4.8976\n",
      "Epoch: 003, Val Loss: 3.8651\n",
      "Epoch: 004, Val Loss: 3.6876\n",
      "Epoch: 005, Val Loss: 3.4006\n",
      "Epoch: 006, Val Loss: 3.3936\n",
      "Epoch: 007, Val Loss: 3.0683\n",
      "Epoch: 008, Val Loss: 2.9757\n",
      "Epoch: 009, Val Loss: 2.7816\n",
      "Epoch: 010, Val Loss: 2.9917\n",
      "Train R2: 0.0522, Test R2: -0.2242\n",
      "Epoch: 011, Val Loss: 2.5828\n",
      "Epoch: 012, Val Loss: 2.3908\n",
      "Epoch: 013, Val Loss: 2.4830\n",
      "Epoch: 014, Val Loss: 2.4114\n",
      "Epoch: 015, Val Loss: 2.3365\n",
      "Epoch: 016, Val Loss: 2.0433\n",
      "Epoch: 017, Val Loss: 2.0576\n",
      "Epoch: 018, Val Loss: 2.0388\n",
      "Epoch: 019, Val Loss: 1.6927\n",
      "Epoch: 020, Val Loss: 1.6809\n",
      "Train R2: 0.6358, Test R2: 0.4890\n",
      "Epoch: 021, Val Loss: 1.5998\n",
      "Epoch: 022, Val Loss: 1.6761\n",
      "Epoch: 023, Val Loss: 1.5382\n",
      "Epoch: 024, Val Loss: 1.3445\n",
      "Epoch: 025, Val Loss: 1.3050\n",
      "Epoch: 026, Val Loss: 1.3087\n",
      "Epoch: 027, Val Loss: 1.4991\n",
      "Epoch: 028, Val Loss: 1.8006\n",
      "Epoch: 029, Val Loss: 1.8291\n",
      "Epoch: 030, Val Loss: 1.4745\n",
      "Train R2: 0.7044, Test R2: 0.5506\n",
      "Epoch: 031, Val Loss: 1.2916\n",
      "Epoch: 032, Val Loss: 1.3226\n",
      "Epoch: 033, Val Loss: 1.1379\n",
      "Epoch: 034, Val Loss: 1.4689\n",
      "Epoch: 035, Val Loss: 1.2598\n",
      "Epoch: 036, Val Loss: 1.2626\n",
      "Epoch: 037, Val Loss: 1.0521\n",
      "Epoch: 038, Val Loss: 1.1824\n",
      "Epoch: 039, Val Loss: 0.9790\n",
      "Epoch: 040, Val Loss: 1.1546\n",
      "Train R2: 0.7669, Test R2: 0.6656\n",
      "Epoch: 041, Val Loss: 1.0073\n",
      "Epoch: 042, Val Loss: 1.0359\n",
      "Epoch: 043, Val Loss: 1.0963\n",
      "Epoch: 044, Val Loss: 0.8891\n",
      "Epoch: 045, Val Loss: 0.8519\n",
      "Epoch: 046, Val Loss: 0.8286\n",
      "Epoch: 047, Val Loss: 0.8769\n",
      "Epoch: 048, Val Loss: 0.7949\n",
      "Epoch: 049, Val Loss: 0.8084\n",
      "Epoch: 050, Val Loss: 0.7590\n",
      "Train R2: 0.8611, Test R2: 0.7209\n",
      "Epoch: 051, Val Loss: 0.8047\n",
      "Epoch: 052, Val Loss: 0.6687\n",
      "Epoch: 053, Val Loss: 0.7115\n",
      "Epoch: 054, Val Loss: 0.6695\n",
      "Epoch: 055, Val Loss: 0.8023\n",
      "Epoch: 056, Val Loss: 0.9320\n",
      "Epoch: 057, Val Loss: 0.8697\n",
      "Epoch: 058, Val Loss: 0.6984\n",
      "Epoch: 059, Val Loss: 0.9324\n",
      "Epoch: 060, Val Loss: 1.1812\n",
      "Train R2: 0.8216, Test R2: 0.6184\n"
     ]
    }
   ],
   "source": [
    "run_model(model, 60, train_loader, test_loader)"
   ]
  },
  {
   "cell_type": "markdown",
   "metadata": {},
   "source": [
    "## Graph Model Evaluation / Оценка графической модели"
   ]
  },
  {
   "cell_type": "code",
   "execution_count": 24,
   "metadata": {},
   "outputs": [
    {
     "data": {
      "text/plain": [
       "(189, 189)"
      ]
     },
     "execution_count": 24,
     "metadata": {},
     "output_type": "execute_result"
    }
   ],
   "source": [
    "model.eval()\n",
    "\n",
    "test_loader = DataLoader_geometric(test_dataset, batch_size=1)\n",
    "\n",
    "pred, true = [], []\n",
    "for data in test_loader:\n",
    "    out = model(data)\n",
    "    pred.append(out.item())\n",
    "    true.append(data.y.item())\n",
    "\n",
    "len(pred), len(true)"
   ]
  },
  {
   "cell_type": "code",
   "execution_count": 25,
   "metadata": {},
   "outputs": [
    {
     "data": {
      "image/png": "[encoded data removed]",
      "text/plain": [
       "<Figure size 600x600 with 3 Axes>"
      ]
     },
     "metadata": {},
     "output_type": "display_data"
    }
   ],
   "source": [
    "sns.jointplot(x=true, y =pred, kind='reg')\n",
    "plt.show()"
   ]
  },
  {
   "cell_type": "code",
   "execution_count": 26,
   "metadata": {},
   "outputs": [
    {
     "data": {
      "text/plain": [
       "(0.6184309666857655, 0.38390395455505877)"
      ]
     },
     "execution_count": 26,
     "metadata": {},
     "output_type": "execute_result"
    }
   ],
   "source": [
    "r2_score(pred, true), mean_absolute_error(pred, true)"
   ]
  },
  {
   "cell_type": "markdown",
   "metadata": {},
   "source": [
    "## Saving the result to a table / Сохраним результат в таблицу"
   ]
  },
  {
   "cell_type": "markdown",
   "metadata": {},
   "source": [
    "В таблице сохраним дату и время, название модели, прогнозируемая величина, название папки с данными, информация о %train, показатель r2, показатель MAE, комментарии."
   ]
  },
  {
   "cell_type": "code",
   "execution_count": 52,
   "metadata": {},
   "outputs": [],
   "source": [
    "# созданим датафрейм\n",
    "df_results = pd.DataFrame(columns=['Date', 'Model', 'Predicted_property', 'Name_data_folder', '%_train', 'Train_R2', 'Test_R2', 'Test_MAE', 'Comments'])"
   ]
  },
  {
   "cell_type": "code",
   "execution_count": null,
   "metadata": {},
   "outputs": [],
   "source": []
  },
  {
   "cell_type": "code",
   "execution_count": 49,
   "metadata": {},
   "outputs": [
    {
     "data": {
      "text/plain": [
       "'2025-04-02'"
      ]
     },
     "execution_count": 49,
     "metadata": {},
     "output_type": "execute_result"
    }
   ],
   "source": [
    "str(date.today())"
   ]
  },
  {
   "cell_type": "code",
   "execution_count": 53,
   "metadata": {},
   "outputs": [],
   "source": [
    "# добавляем данные в датафрейм\n",
    "df_results.loc[len(df_results)] = \\\n",
    "    [str(date.today()),\n",
    "     'from models.GNN_first import GCN',\n",
    "     'Formation_energy (eV/atom)',\n",
    "     'data/graphs_structures_Fm_3m',\n",
    "     '15%',\n",
    "     0.8216,\n",
    "     0.6184,\n",
    "     0.383903,\n",
    "     'First predict in this project'\n",
    "     ]"
   ]
  },
  {
   "cell_type": "code",
   "execution_count": null,
   "metadata": {},
   "outputs": [
    {
     "data": {
      "text/html": [
       "<div>\n",
       "<style scoped>\n",
       "    .dataframe tbody tr th:only-of-type {\n",
       "        vertical-align: middle;\n",
       "    }\n",
       "\n",
       "    .dataframe tbody tr th {\n",
       "        vertical-align: top;\n",
       "    }\n",
       "\n",
       "    .dataframe thead th {\n",
       "        text-align: right;\n",
       "    }\n",
       "</style>\n",
       "<table border=\"1\" class=\"dataframe\">\n",
       "  <thead>\n",
       "    <tr style=\"text-align: right;\">\n",
       "      <th></th>\n",
       "      <th>Date</th>\n",
       "      <th>Model</th>\n",
       "      <th>Predicted_property</th>\n",
       "      <th>Name_data_folder</th>\n",
       "      <th>%_train</th>\n",
       "      <th>Train_R2</th>\n",
       "      <th>Test_R2</th>\n",
       "      <th>Test_MAE</th>\n",
       "      <th>Comments</th>\n",
       "    </tr>\n",
       "  </thead>\n",
       "  <tbody>\n",
       "    <tr>\n",
       "      <th>0</th>\n",
       "      <td>2025-04-02</td>\n",
       "      <td>from models.GNN_first import GCN</td>\n",
       "      <td>Formation_energy (eV/atom)</td>\n",
       "      <td>data/graphs_structures_Fm_3m</td>\n",
       "      <td>15%</td>\n",
       "      <td>0.8216</td>\n",
       "      <td>0.6184</td>\n",
       "      <td>0.383903</td>\n",
       "      <td>First predict in this project</td>\n",
       "    </tr>\n",
       "  </tbody>\n",
       "</table>\n",
       "</div>"
      ],
      "text/plain": [
       "         Date                             Model          Predicted_property  \\\n",
       "0  2025-04-02  from models.GNN_first import GCN  Formation_energy (eV/atom)   \n",
       "\n",
       "               Name_data_folder %_train  Train_R2  Test_R2  Test_MAE  \\\n",
       "0  data/graphs_structures_Fm_3m     15%    0.8216   0.6184  0.383903   \n",
       "\n",
       "                        Comments  \n",
       "0  First predict in this project  "
      ]
     },
     "execution_count": 54,
     "metadata": {},
     "output_type": "execute_result"
    }
   ],
   "source": [
    "# смотрим таблицу\n",
    "df_results"
   ]
  },
  {
   "cell_type": "code",
   "execution_count": 55,
   "metadata": {},
   "outputs": [],
   "source": [
    "# записываем датафрейм\n",
    "PATH_FOR_SAVE = './results/df_results.xlsx'\n",
    "df_results.to_excel(PATH_FOR_SAVE, index=False)"
   ]
  },
  {
   "cell_type": "markdown",
   "metadata": {},
   "source": [
    "## **Project results / Вывод по проекту: \"Предсказание энергии образования кристаллов с помощью GNN\"**  "
   ]
  },
  {
   "cell_type": "markdown",
   "metadata": {},
   "source": [
    "### **Архитектура модели GNN для предсказания энергии образования кристаллов**\n",
    "\n",
    "Применяемая модель представляет собой **графовую нейронную сеть (GNN)**, специально разработанную для анализа кристаллических структур и предсказания их энергии образования. Она сочетает обработку локальных атомных взаимодействий и глобальных параметров кристаллической решётки.  \n",
    "\n",
    "---\n",
    "\n",
    "#### **1. Входные данные**  \n",
    "Модель принимает на вход **графы кристаллических структур**, где:  \n",
    "- **Узлы** — атомы с их свойствами (атомный номер, молярный объём, электроотрицательность и др.).  \n",
    "- **Рёбра** — химические связи между атомами, заданные через `edge_index`.  \n",
    "- **Глобальные параметры** — тензор с параметрами кристаллической решётки (3×3 матрица в виде вектора из 9 элементов).  \n",
    "\n",
    "---\n",
    "\n",
    "#### **2. Основные компоненты архитектуры**\n",
    "\n",
    "1. **Структурный эмбеддинг (PointTransformerConv)**  \n",
    "   - Преобразует **атомные признаки** и их **геометрическое расположение** (координаты) в векторные представления.  \n",
    "   - Учитывает связи между атомами (`edge_index`) и их пространственную близость (`pos`).  \n",
    "   - Аналогичен механизму внимания (attention), но оптимизирован для материаловедческих задач.  \n",
    "\n",
    "2. **Глобальное усреднение (Global Mean Pooling)**  \n",
    "   - Агрегирует атомные эмбеддинги в **единый вектор** для всей кристаллической структуры.  \n",
    "   - Позволяет модели работать с кристаллами разного размера.  \n",
    "\n",
    "3. **Эмбеддинг решётки (Linear)**  \n",
    "   - Кодирует **параметры кристаллической решётки** (периодичность ячейки) в скрытое пространство той же размерности, что и структурные признаки.  \n",
    "\n",
    "4. **Объединение признаков**  \n",
    "   - Вектор структурных признаков (после pooling) и вектор решётки объединяются в **один дескриптор кристалла**.  \n",
    "\n",
    "5. **Полносвязные слои (MLP)**  \n",
    "   - Каскад линейных слоёв с активацией ReLU:  \n",
    "     - Уменьшает размерность объединённого вектора.  \n",
    "     - Выявляет нелинейные зависимости между структурой и энергией.  \n",
    "\n",
    "6. **Выходной слой (Linear)**  \n",
    "   - Фиксирует результат в виде **скалярного значения** — предсказанной энергии образования.  \n",
    "\n",
    "---\n",
    "\n",
    "#### **3. Особенности архитектуры**  \n",
    "- **Гибкость**: Может обрабатывать кристаллы с произвольным числом атомов благодаря механизму pooling.  \n",
    "- **Учёт геометрии**: PointTransformerConv явно использует координаты атомов, что критично для материаловедения.  \n",
    "- **Комбинация признаков**: Совмещает **локальные** (атомные) и **глобальные** (решёточные) свойства.  \n",
    "\n",
    "---\n",
    "\n",
    "#### **4. Ограничения и возможные улучшения**  \n",
    "- **Нет учёта углов** между связями (можно добавить SchNet или DimeNet++).  \n",
    "- **Отсутствие регуляризации** (например, Dropout) — может привести к переобучению на малых датасетах.  \n",
    "- **Зависимость от качества графов**: Точность предсказаний сильно зависит от способа построения графа (например, выбора радиуса обрезания связей).  \n",
    "\n",
    "---\n",
    "\n",
    "#### **5. Практическое применение**  \n",
    "Модель подходит для:  \n",
    "- Быстрого скрининга стабильных кристаллических структур.  \n",
    "- Предсказания свойств материалов без дорогостоящих квантово-химических расчётов.  \n",
    "- Сравнительного анализа разных классов соединений (например, сплавов с одинаковой пространственной группой).  \n",
    "\n",
    "Эта архитектура — **базовый, но эффективный инструмент** для задач материаловедения, который можно дорабатывать под конкретные требования."
   ]
  },
  {
   "cell_type": "markdown",
   "metadata": {},
   "source": [
    "### **Основные достижения**  \n",
    "Проект успешно демонстрирует применение **графовых нейронных сетей (GNN)** для предсказания энергии образования кристаллических структур на данных из **Materials Project**. Ключевые результаты:  \n",
    "- **Качество модели**:  \n",
    "  - **Train R² = 0.8216**, **Test R² = 0.6184** — модель хорошо обучается, но есть риск переобучения (разница между train и test).  \n",
    "  - Для улучшения можно добавить регуляризацию (Dropout, L2) или увеличить датасет.  \n",
    "- **Архитектура**:  \n",
    "  - Использован **PointTransformerConv** для учёта геометрии кристаллов + полносвязные слои.  \n",
    "  - Учтены **параметры решётки** (lattice) — важный вклад в материаловедение.  \n",
    "\n",
    "#### **Ограничения и пути улучшения**  \n",
    "- **Данные**:  \n",
    "  - Только структуры с **пространственной группой Fm-3m** (1257 образцов) — для более общих выводов нужны разнообразные данные.  \n",
    "  - Нет проверки на мультикомпонентных системах (сплавы, оксиды).  \n",
    "- **Модель**:  \n",
    "  - Нет кросс-валидации — результаты могут быть нестабильными.  \n",
    "  - Можно протестировать другие архитектуры (**CGCNN, MEGNet, ALIGNN**).  \n",
    "- **Интерпретируемость**:  \n",
    "  - Не анализируется, какие **атомные свойства** или **типы связей** влияют на энергию.  \n",
    "\n",
    "#### **Практическая ценность**  \n",
    "- **Для материаловедения**:  \n",
    "  - Метод позволяет быстро предсказывать энергию образования без DFT-расчётов.  \n",
    "  - Может использоваться для скрининга стабильных материалов.  \n",
    "- **Для ML-инженеров**:  \n",
    "  - Чёткий пайплайн: от данных до обучения GNN.  \n",
    "  - Пример работы с **PyTorch Geometric** для кристаллов.  \n",
    "\n",
    "#### **Рекомендации**  \n",
    "1. **Расширить датасет**:  \n",
    "   - Добавить другие пространственные группы и химические элементы.  \n",
    "2. **Улучшить модель**:  \n",
    "   - Добавить **BatchNorm** и **Dropout**.  \n",
    "   - Протестировать **перекрёстную проверку**.  \n",
    "3. **Визуализировать результаты**:  \n",
    "   - Построить графики **зависимости ошибки от свойств кристаллов**.  \n",
    "   - Использовать **GNNExplainer** для интерпретации.  \n",
    "\n",
    "### **Итог**  \n",
    "Проект служит **практическим руководством** по применению GNN в материаловедении. Для production-решения потребуется доработка, но текущая версия уже полезна для исследовательских целей.  \n",
    "\n",
    "**Следующие возможные шаги**:  \n",
    "- Добавить мультитаргетное предсказание (энергия + ширина зоны).  \n",
    "- Реализовать **генерацию новых структур** с помощью GNN."
   ]
  }
 ],
 "metadata": {
  "kernelspec": {
   "display_name": "venv_materials_5",
   "language": "python",
   "name": "python3"
  },
  "language_info": {
   "codemirror_mode": {
    "name": "ipython",
    "version": 3
   },
   "file_extension": ".py",
   "mimetype": "text/x-python",
   "name": "python",
   "nbconvert_exporter": "python",
   "pygments_lexer": "ipython3",
   "version": "3.12.0"
  }
 },
 "nbformat": 4,
 "nbformat_minor": 2
}
